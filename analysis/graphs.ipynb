{
 "cells": [
  {
   "cell_type": "code",
   "execution_count": 56,
   "metadata": {},
   "outputs": [
    {
     "name": "stdout",
     "output_type": "stream",
     "text": [
      "[[382, 322, 377, 356, 385, 2791], [601, 481, 518, 566, 560, 257], [1409, 1305, 1194, 1203, 1211, 481], [1571, 1572, 1567, 1536, 1472, 521], [1248, 1269, 1278, 1272, 1195, 388], [767, 811, 884, 874, 785, 192], [366, 411, 448, 445, 455, 128], [145, 190, 189, 174, 203, 61], [55, 64, 72, 66, 85, 23], [18, 29, 20, 27, 26, 11], [7, 14, 7, 11, 10, 9]]\n"
     ]
    },
    {
     "data": {
      "image/png": "[encoded data removed]",
      "text/plain": [
       "<Figure size 200x200 with 1 Axes>"
      ]
     },
     "metadata": {},
     "output_type": "display_data"
    }
   ],
   "source": [
    "import matplotlib.pyplot as plt\n",
    "import numpy as np\n",
    "import json\n",
    "\n",
    "def cmc_graph():\n",
    "    plt.style.use('_mpl-gallery-nogrid')\n",
    "\n",
    "    x = [[0,0,0,0,0,0], # 0\n",
    "        [0,0,0,0,0,0],  # 1\n",
    "        [0,0,0,0,0,0],  # 2\n",
    "        [0,0,0,0,0,0],  # 3\n",
    "        [0,0,0,0,0,0],  # 4\n",
    "        [0,0,0,0,0,0],  # 5\n",
    "        [0,0,0,0,0,0],  # 6\n",
    "        [0,0,0,0,0,0],  # 7\n",
    "        [0,0,0,0,0,0],  # 8\n",
    "        [0,0,0,0,0,0],  # 9\n",
    "        [0,0,0,0,0,0]   # 10\n",
    "    ]\n",
    "    with open('/storage/datasets/mtg-tcg/oracle-cards.json') as dataset:\n",
    "        data = json.load(dataset)\n",
    "        for item in data:\n",
    "            if \"color_identity\" in item and 'cmc' in item:\n",
    "                if item['cmc'] in [0,1,2,3,4,5,6,7,8,9,10]:\n",
    "                    cmc = int(item['cmc'])\n",
    "                    if 'W' in item[\"color_identity\"]: x[cmc][0] += 1\n",
    "                    if 'U' in item[\"color_identity\"]: x[cmc][1] += 1\n",
    "                    if 'B' in item[\"color_identity\"]: x[cmc][2] += 1\n",
    "                    if 'R' in item[\"color_identity\"]: x[cmc][3] += 1\n",
    "                    if 'G' in item[\"color_identity\"]: x[cmc][4] += 1\n",
    "                    if item[\"color_identity\"] == []: x[cmc][5] += 1\n",
    "\n",
    "    print(x)\n",
    "    colors = [\"Yellow\", \"Blue\", \"Purple\", \"Red\", \"Green\", \"Gray\"]\n",
    "    #Stack the data\n",
    "    plt.figure()\n",
    "    n, bins, patches = plt.hist(x, 30, stacked=True, density = True)\n",
    "    plt.show()\n",
    "\n",
    "    # labels = [\"White\", \"Blue\", \"Black\", \"Red\", \"Green\", \"Colorless\"]\n",
    "    \n",
    "\n",
    "    # # plot\n",
    "    # fig, ax = plt.subplots()\n",
    "    # fig.set_size_inches(6, 6, forward=True)\n",
    "    # ax.pie(x, labels=labels, autopct='%1.1f%%')\n",
    "\n",
    "    # ax.pie(x, colors=colors, labels=labels,\n",
    "    #     wedgeprops={\"linewidth\": 1, \"edgecolor\": \"black\"}, frame=True)\n",
    "    # ax.set_axis_off()\n",
    "\n",
    "    # plt.show()\n",
    "\n",
    "cmc_graph()\n"
   ]
  }
 ],
 "metadata": {
  "kernelspec": {
   "display_name": "Python 3",
   "language": "python",
   "name": "python3"
  },
  "language_info": {
   "codemirror_mode": {
    "name": "ipython",
    "version": 3
   },
   "file_extension": ".py",
   "mimetype": "text/x-python",
   "name": "python",
   "nbconvert_exporter": "python",
   "pygments_lexer": "ipython3",
   "version": "3.10.12"
  }
 },
 "nbformat": 4,
 "nbformat_minor": 2
}
